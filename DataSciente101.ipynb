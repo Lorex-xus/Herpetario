{
 "cells": [
  {
   "metadata": {},
   "cell_type": "markdown",
   "source": [
    "# Data Science 101\n",
    "\n",
    "## Qué es Data Science?\n",
    "\n",
    "La ciencia de datos es un campo interdisciplinario que utiliza métodos, procesos, algoritmos y sistemas científicos para extraer conocimiento y comprensión de datos en diversas formas, tanto estructurados como no estructurados. Es un campo que combina estadísticas, análisis de datos y aprendizaje automático para interpretar y analizar grandes volúmenes de in"
   ],
   "id": "e326feb0fbef9132"
  },
  {
   "metadata": {},
   "cell_type": "markdown",
   "source": [
    "Qué necesitamos para hacer Data Science?\n",
    "- Datos: Información que se puede analizar. procesar y extraer conocimiento de ellos.\n",
    "- Herramientas: Software y lenguajes de programación que facilitan el análisis de datos.\n",
    "- Conocimientos: Entender los conceptos básicos de estadística, programación y análisis de datos."
   ],
   "id": "f6a68b5565fc3497"
  },
  {
   "metadata": {},
   "cell_type": "markdown",
   "source": [
    "## Herramientas y Lenguajes de Programación\n",
    "- **Python**: Un lenguaje de programación versátil y fácil de aprender, ampliamente utilizado en ciencia de datos.\n",
    "- **R**: Un lenguaje especializado en análisis estadístico y visualización de datos.\n",
    "- **SQL**: Un lenguaje de consulta para bases de datos relacionales, esencial para manipular y extraer datos.\n",
    "- **Jupyter Notebooks**: Un entorno interactivo para escribir y ejecutar código, ideal para análisis exploratorio de datos.\n",
    "- **Pandas**: Una biblioteca de Python para manipulación y análisis de datos, que proporciona estructuras de datos flexibles y eficientes.\n",
    "- **NumPy**: Una biblioteca de Python para cálculos numéricos, que proporciona soporte para arreglos multidimensionales y funciones matemáticas.\n",
    "- **Matplotlib y Seaborn**: Bibliotecas de visualización de datos en Python, que permiten crear gráficos y visualizaciones atractivas.\n",
    "- **Scikit-learn**: Una biblioteca de Python para aprendizaje automático, que proporciona herramientas para construir y evaluar modelos predictivos.\n",
    "- **PyTorch**: Biblioteca de Python para aprendizaje profundo, que permiten construir y entrenar redes neuronales complejas."
   ],
   "id": "addf25f999e45d08"
  },
  {
   "cell_type": "code",
   "id": "initial_id",
   "metadata": {
    "collapsed": true,
    "ExecuteTime": {
     "end_time": "2025-06-10T01:25:01.063167Z",
     "start_time": "2025-06-10T01:25:01.057740Z"
    }
   },
   "source": [
    "import cudf # Para trabajar con GPU\n",
    "import pandas as pd # Para trabajar con CPU\n",
    "import numpy as np # Para trabajar con arreglos y matrices\n",
    "import matplotlib.pyplot as plt # Para visualización de datos\n",
    "import seaborn as sns # Para visualización de datos\n",
    "import pygwalker as pyg # Para visualización interactiva de datos"
   ],
   "outputs": [],
   "execution_count": 2
  },
  {
   "metadata": {},
   "cell_type": "markdown",
   "source": [
    "##  Introducción a Pandas\n",
    "\n",
    "Pandas es una biblioteca de Python que proporciona estructuras de datos y herramientas de análisis de datos. Es especialmente útil para manipular y analizar datos tabulares, como hojas de cálculo o bases de datos, y es ampliamente utilizada en ciencia de datos.\n"
   ],
   "id": "487db6cbabc9bba8"
  },
  {
   "metadata": {},
   "cell_type": "markdown",
   "source": [
    "### Estructuras de Datos en Pandas\n",
    "- **Series**: Una estructura unidimensional similar a una lista o un arreglo, que puede contener cualquier tipo de datos y tiene etiquetas (índices).\n",
    "- **DataFrame**: Una estructura bidimensional similar a una tabla, que contiene filas y columnas, donde cada columna puede tener un tipo de dato diferente. Es la estructura de datos más utilizada en Pandas.\n",
    "- **Panel**: Una estructura tridimensional, menos utilizada, que puede ser vista como una colección de DataFrames. Sin embargo, en la práctica, los DataFrames son suficientes para la mayoría de las tareas de análisis de datos.\n",
    "- **Categorías**: Una estructura que permite trabajar con datos categóricos, optimizando el uso de memoria y mejorando el rendimiento en ciertas operaciones.\n",
    "- **Time Series**: Una estructura especializada para trabajar con datos temporales, que permite realizar operaciones específicas como resampling y rolling windows.\n",
    "- **Sparse DataFrames**: Una estructura que permite trabajar con datos dispersos, donde la mayoría de los valores son nulos o cero, optimizando el uso de memoria.\n",
    "- **MultiIndex**: Una estructura que permite trabajar con índices jerárquicos, facilitando el manejo de datos con múltiples niveles de agrupación."
   ],
   "id": "4f39f8d2e04156d1"
  },
  {
   "metadata": {},
   "cell_type": "markdown",
   "source": "<img src = \"imagenes/img.png\" width = \"500\">",
   "id": "2cfb6738fc7ca6f3"
  },
  {
   "metadata": {},
   "cell_type": "code",
   "outputs": [],
   "execution_count": null,
   "source": "",
   "id": "77656d0d90a4b16d"
  }
 ],
 "metadata": {
  "kernelspec": {
   "display_name": "Python 3",
   "language": "python",
   "name": "python3"
  },
  "language_info": {
   "codemirror_mode": {
    "name": "ipython",
    "version": 2
   },
   "file_extension": ".py",
   "mimetype": "text/x-python",
   "name": "python",
   "nbconvert_exporter": "python",
   "pygments_lexer": "ipython2",
   "version": "2.7.6"
  }
 },
 "nbformat": 4,
 "nbformat_minor": 5
}
