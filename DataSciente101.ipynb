{
 "cells": [
  {
   "metadata": {},
   "cell_type": "markdown",
   "source": [
    "# Data Science 101\n",
    "\n",
    "## Qué es Data Science?\n",
    "\n",
    "La ciencia de datos es un campo interdisciplinario que utiliza métodos, procesos, algoritmos y sistemas científicos para extraer conocimiento y comprensión de datos en diversas formas, tanto estructurados como no estructurados. Es un campo que combina estadísticas, análisis de datos y aprendizaje automático para interpretar y analizar grandes volúmenes de in"
   ],
   "id": "e326feb0fbef9132"
  },
  {
   "metadata": {},
   "cell_type": "markdown",
   "source": [
    "Qué necesitamos para hacer Data Science?\n",
    "- Datos: Información que se puede analizar. procesar y extraer conocimiento de ellos.\n",
    "- Herramientas: Software y lenguajes de programación que facilitan el análisis de datos.\n",
    "- Conocimientos: Entender los conceptos básicos de estadística, programación y análisis de datos."
   ],
   "id": "f6a68b5565fc3497"
  },
  {
   "metadata": {},
   "cell_type": "markdown",
   "source": [
    "## Herramientas y Lenguajes de Programación\n",
    "- **Python**: Un lenguaje de programación versátil y fácil de aprender, ampliamente utilizado en ciencia de datos.\n",
    "- **R**: Un lenguaje especializado en análisis estadístico y visualización de datos.\n",
    "- **SQL**: Un lenguaje de consulta para bases de datos relacionales, esencial para manipular y extraer datos.\n",
    "- **Jupyter Notebooks**: Un entorno interactivo para escribir y ejecutar código, ideal para análisis exploratorio de datos.\n",
    "- **Pandas**: Una biblioteca de Python para manipulación y análisis de datos, que proporciona estructuras de datos flexibles y eficientes.\n",
    "- **NumPy**: Una biblioteca de Python para cálculos numéricos, que proporciona soporte para arreglos multidimensionales y funciones matemáticas.\n",
    "- **Matplotlib y Seaborn**: Bibliotecas de visualización de datos en Python, que permiten crear gráficos y visualizaciones atractivas.\n",
    "- **Scikit-learn**: Una biblioteca de Python para aprendizaje automático, que proporciona herramientas para construir y evaluar modelos predictivos.\n",
    "- **PyTorch**: Biblioteca de Python para aprendizaje profundo, que permiten construir y entrenar redes neuronales complejas."
   ],
   "id": "addf25f999e45d08"
  },
  {
   "cell_type": "code",
   "id": "initial_id",
   "metadata": {
    "collapsed": true,
    "ExecuteTime": {
     "end_time": "2025-06-10T01:25:01.063167Z",
     "start_time": "2025-06-10T01:25:01.057740Z"
    }
   },
   "source": [
    "import cudf # Para trabajar con GPU\n",
    "import pandas as pd # Para trabajar con CPU\n",
    "import numpy as np # Para trabajar con arreglos y matrices\n",
    "import matplotlib.pyplot as plt # Para visualización de datos\n",
    "import seaborn as sns # Para visualización de datos\n",
    "import pygwalker as pyg # Para visualización interactiva de datos"
   ],
   "outputs": [],
   "execution_count": 2
  },
  {
   "metadata": {},
   "cell_type": "markdown",
   "source": [
    "##  Introducción a Pandas\n",
    "\n",
    "Pandas es una biblioteca de Python que proporciona estructuras de datos y herramientas de análisis de datos. Es especialmente útil para manipular y analizar datos tabulares, como hojas de cálculo o bases de datos, y es ampliamente utilizada en ciencia de datos.\n"
   ],
   "id": "487db6cbabc9bba8"
  },
  {
   "metadata": {},
   "cell_type": "markdown",
   "source": [
    "### Estructuras de Datos en Pandas\n",
    "- **Series**: Una estructura unidimensional similar a una lista o un arreglo, que puede contener cualquier tipo de datos y tiene etiquetas (índices).\n",
    "- **DataFrame**: Una estructura bidimensional similar a una tabla, que contiene filas y columnas, donde cada columna puede tener un tipo de dato diferente. Es la estructura de datos más utilizada en Pandas.\n",
    "- **Panel**: Una estructura tridimensional, menos utilizada, que puede ser vista como una colección de DataFrames. Sin embargo, en la práctica, los DataFrames son suficientes para la mayoría de las tareas de análisis de datos.\n",
    "- **Categorías**: Una estructura que permite trabajar con datos categóricos, optimizando el uso de memoria y mejorando el rendimiento en ciertas operaciones.\n",
    "- **Time Series**: Una estructura especializada para trabajar con datos temporales, que permite realizar operaciones específicas como resampling y rolling windows.\n",
    "- **Sparse DataFrames**: Una estructura que permite trabajar con datos dispersos, donde la mayoría de los valores son nulos o cero, optimizando el uso de memoria.\n",
    "- **MultiIndex**: Una estructura que permite trabajar con índices jerárquicos, facilitando el manejo de datos con múltiples niveles de agrupación."
   ],
   "id": "4f39f8d2e04156d1"
  },
  {
   "metadata": {},
   "cell_type": "markdown",
   "source": "<img src = \"imagenes/img.png\" width = \"800\">",
   "id": "2cfb6738fc7ca6f3"
  },
  {
   "metadata": {},
   "cell_type": "markdown",
   "source": [
    "# Conceptos Básicos de Pandas\n",
    "- **Instalación**: Pandas se puede instalar utilizando pip o conda. Por ejemplo, `pip install pandas`.\n",
    "- **Importación**: Para utilizar Pandas en un script de Python, se debe importar la biblioteca con `import pandas `\n",
    "- **Creación de Series y DataFrames**:\n",
    "  - Una Serie se puede crear a partir de una lista, un diccionario o un arreglo de NumPy.\n",
    "  - Un DataFrame se puede crear a partir de un diccionario de listas, un diccionario de Series, una lista de diccionarios o un archivo."
   ],
   "id": "1c1d541b44945e28"
  },
  {
   "metadata": {
    "ExecuteTime": {
     "end_time": "2025-06-10T01:42:01.223586Z",
     "start_time": "2025-06-10T01:42:01.208530Z"
    }
   },
   "cell_type": "code",
   "source": [
    "# Creacion de una Serie\n",
    "serie = pd.Series([1, 2, 3, 4, 5])\n",
    "# Creacion de un DataFrame\n",
    "data = pd.DataFrame({\n",
    "    'columna1': [1, 2, 3],\n",
    "    'columna2': ['a', 'b', 'c'],\n",
    "    'columna3': [True, False, True]\n",
    "})"
   ],
   "id": "792e93c2c02eee0b",
   "outputs": [],
   "execution_count": 3
  },
  {
   "metadata": {
    "ExecuteTime": {
     "end_time": "2025-06-10T01:42:02.759636Z",
     "start_time": "2025-06-10T01:42:02.752086Z"
    }
   },
   "cell_type": "code",
   "source": [
    "# Mostrar la Serie y el DataFrame\n",
    "print(\"Serie:\")\n",
    "print(serie)\n",
    "print(\"\\nDataFrame:\")\n",
    "print(data)"
   ],
   "id": "77656d0d90a4b16d",
   "outputs": [
    {
     "name": "stdout",
     "output_type": "stream",
     "text": [
      "Serie:\n",
      "0    1\n",
      "1    2\n",
      "2    3\n",
      "3    4\n",
      "4    5\n",
      "dtype: int64\n",
      "\n",
      "DataFrame:\n",
      "   columna1 columna2  columna3\n",
      "0         1        a      True\n",
      "1         2        b     False\n",
      "2         3        c      True\n"
     ]
    }
   ],
   "execution_count": 4
  },
  {
   "metadata": {},
   "cell_type": "markdown",
   "source": [
    "## Acceso a Datos en Pandas\n",
    "\n",
    "De nada nos sirve tener datos si no podemos acceder a ellos. Pandas proporciona varias formas de acceder a los datos en Series y DataFrames.\n",
    "\n",
    "- Slicing: Permite acceder a un subconjunto de datos utilizando índices o etiquetas `data[0:2]` o `data['columna1']`.\n",
    "- Indexación: Permite acceder a datos específicos utilizando etiquetas o posiciones. Por ejemplo, `data.iloc[0]` para acceder a la primera fila o `data['columna1']` para acceder a una columna específica.\n",
    "- Filtrado: Permite seleccionar filas que cumplen ciertas condiciones. Por ejemplo, `data[data['columna1'] > 1]` para seleccionar filas donde el valor de 'columna1' es mayor que 1.\n",
    "- Métodos de acceso: Pandas proporciona métodos como `head()`, `tail()`, `loc[]` e `iloc[]` para acceder a datos de manera más flexible.\n",
    "    - head(): Muestra las primeras n filas del DataFrame (por defecto 5).\n",
    "    - tail(): Muestra las últimas n filas del DataFrame (por defecto 5).\n",
    "    - loc[]: Permite acceder a filas y columnas por etiquetas.\n",
    "    - iloc[]: Permite acceder a filas y columnas por posición entera.\n"
   ],
   "id": "d4976aa9daf70830"
  },
  {
   "metadata": {},
   "cell_type": "code",
   "outputs": [],
   "execution_count": null,
   "source": "",
   "id": "98316a902c045ec9"
  }
 ],
 "metadata": {
  "kernelspec": {
   "display_name": "Python 3",
   "language": "python",
   "name": "python3"
  },
  "language_info": {
   "codemirror_mode": {
    "name": "ipython",
    "version": 2
   },
   "file_extension": ".py",
   "mimetype": "text/x-python",
   "name": "python",
   "nbconvert_exporter": "python",
   "pygments_lexer": "ipython2",
   "version": "2.7.6"
  }
 },
 "nbformat": 4,
 "nbformat_minor": 5
}
